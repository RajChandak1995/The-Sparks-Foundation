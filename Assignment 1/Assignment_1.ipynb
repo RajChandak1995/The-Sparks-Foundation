{
 "cells": [
  {
   "cell_type": "markdown",
   "id": "e8cf9237",
   "metadata": {},
   "source": [
    "# From the given data set having Hours and Scores as features, predict score of students studing given number of hours by linear Regression "
   ]
  },
  {
   "cell_type": "markdown",
   "id": "f2494c25",
   "metadata": {},
   "source": [
    "# Step 1 : Importing the libraries"
   ]
  },
  {
   "cell_type": "code",
   "execution_count": 1,
   "id": "4a206622",
   "metadata": {},
   "outputs": [],
   "source": [
    "import pandas as pd\n",
    "import numpy as np\n",
    "import matplotlib.pyplot as plt\n",
    "import seaborn as sns\n",
    "%matplotlib inline"
   ]
  },
  {
   "cell_type": "markdown",
   "id": "4c743fc8",
   "metadata": {},
   "source": [
    "# Step 2 : Reading the data"
   ]
  },
  {
   "cell_type": "markdown",
   "id": "f7703e01",
   "metadata": {},
   "source": [
    "## Reading the data from remote link"
   ]
  },
  {
   "cell_type": "code",
   "execution_count": 2,
   "id": "c45a45cc",
   "metadata": {},
   "outputs": [
    {
     "data": {
      "text/html": [
       "<div>\n",
       "<style scoped>\n",
       "    .dataframe tbody tr th:only-of-type {\n",
       "        vertical-align: middle;\n",
       "    }\n",
       "\n",
       "    .dataframe tbody tr th {\n",
       "        vertical-align: top;\n",
       "    }\n",
       "\n",
       "    .dataframe thead th {\n",
       "        text-align: right;\n",
       "    }\n",
       "</style>\n",
       "<table border=\"1\" class=\"dataframe\">\n",
       "  <thead>\n",
       "    <tr style=\"text-align: right;\">\n",
       "      <th></th>\n",
       "      <th>Hours</th>\n",
       "      <th>Scores</th>\n",
       "    </tr>\n",
       "  </thead>\n",
       "  <tbody>\n",
       "    <tr>\n",
       "      <th>0</th>\n",
       "      <td>2.5</td>\n",
       "      <td>21</td>\n",
       "    </tr>\n",
       "    <tr>\n",
       "      <th>1</th>\n",
       "      <td>5.1</td>\n",
       "      <td>47</td>\n",
       "    </tr>\n",
       "    <tr>\n",
       "      <th>2</th>\n",
       "      <td>3.2</td>\n",
       "      <td>27</td>\n",
       "    </tr>\n",
       "    <tr>\n",
       "      <th>3</th>\n",
       "      <td>8.5</td>\n",
       "      <td>75</td>\n",
       "    </tr>\n",
       "    <tr>\n",
       "      <th>4</th>\n",
       "      <td>3.5</td>\n",
       "      <td>30</td>\n",
       "    </tr>\n",
       "  </tbody>\n",
       "</table>\n",
       "</div>"
      ],
      "text/plain": [
       "   Hours  Scores\n",
       "0    2.5      21\n",
       "1    5.1      47\n",
       "2    3.2      27\n",
       "3    8.5      75\n",
       "4    3.5      30"
      ]
     },
     "execution_count": 2,
     "metadata": {},
     "output_type": "execute_result"
    }
   ],
   "source": [
    "url = 'http://bit.ly/w-data'\n",
    "df = pd.read_csv(url)\n",
    "df.head()"
   ]
  },
  {
   "cell_type": "code",
   "execution_count": 3,
   "id": "3723ac84",
   "metadata": {},
   "outputs": [
    {
     "name": "stdout",
     "output_type": "stream",
     "text": [
      "<class 'pandas.core.frame.DataFrame'>\n",
      "RangeIndex: 25 entries, 0 to 24\n",
      "Data columns (total 2 columns):\n",
      " #   Column  Non-Null Count  Dtype  \n",
      "---  ------  --------------  -----  \n",
      " 0   Hours   25 non-null     float64\n",
      " 1   Scores  25 non-null     int64  \n",
      "dtypes: float64(1), int64(1)\n",
      "memory usage: 528.0 bytes\n"
     ]
    }
   ],
   "source": [
    "df.info()"
   ]
  },
  {
   "cell_type": "code",
   "execution_count": 4,
   "id": "2a622279",
   "metadata": {},
   "outputs": [
    {
     "data": {
      "text/plain": [
       "(25, 2)"
      ]
     },
     "execution_count": 4,
     "metadata": {},
     "output_type": "execute_result"
    }
   ],
   "source": [
    "df.shape"
   ]
  },
  {
   "cell_type": "markdown",
   "id": "9ca6c686",
   "metadata": {},
   "source": [
    "## Checking for any missing values"
   ]
  },
  {
   "cell_type": "code",
   "execution_count": 5,
   "id": "e945ebf5",
   "metadata": {},
   "outputs": [
    {
     "data": {
      "text/plain": [
       "Hours     0\n",
       "Scores    0\n",
       "dtype: int64"
      ]
     },
     "execution_count": 5,
     "metadata": {},
     "output_type": "execute_result"
    }
   ],
   "source": [
    "df.isnull().sum()"
   ]
  },
  {
   "cell_type": "code",
   "execution_count": 6,
   "id": "b5da6070",
   "metadata": {},
   "outputs": [],
   "source": [
    "#Since the data type of the columns are float and integer and there is no missing values and no hidden missing values, so we are good to go "
   ]
  },
  {
   "cell_type": "markdown",
   "id": "5a242cfd",
   "metadata": {},
   "source": [
    "# Step 3 : Data Visualization"
   ]
  },
  {
   "cell_type": "markdown",
   "id": "75e9e27a",
   "metadata": {},
   "source": [
    "### Finding the correlation and plot between hours(independent variable) and score(dependent variable)"
   ]
  },
  {
   "cell_type": "code",
   "execution_count": 7,
   "id": "a7f64273",
   "metadata": {},
   "outputs": [
    {
     "data": {
      "text/html": [
       "<div>\n",
       "<style scoped>\n",
       "    .dataframe tbody tr th:only-of-type {\n",
       "        vertical-align: middle;\n",
       "    }\n",
       "\n",
       "    .dataframe tbody tr th {\n",
       "        vertical-align: top;\n",
       "    }\n",
       "\n",
       "    .dataframe thead th {\n",
       "        text-align: right;\n",
       "    }\n",
       "</style>\n",
       "<table border=\"1\" class=\"dataframe\">\n",
       "  <thead>\n",
       "    <tr style=\"text-align: right;\">\n",
       "      <th></th>\n",
       "      <th>Hours</th>\n",
       "      <th>Scores</th>\n",
       "    </tr>\n",
       "  </thead>\n",
       "  <tbody>\n",
       "    <tr>\n",
       "      <th>Hours</th>\n",
       "      <td>1.000000</td>\n",
       "      <td>0.976191</td>\n",
       "    </tr>\n",
       "    <tr>\n",
       "      <th>Scores</th>\n",
       "      <td>0.976191</td>\n",
       "      <td>1.000000</td>\n",
       "    </tr>\n",
       "  </tbody>\n",
       "</table>\n",
       "</div>"
      ],
      "text/plain": [
       "           Hours    Scores\n",
       "Hours   1.000000  0.976191\n",
       "Scores  0.976191  1.000000"
      ]
     },
     "execution_count": 7,
     "metadata": {},
     "output_type": "execute_result"
    }
   ],
   "source": [
    "corr = df.corr()\n",
    "corr"
   ]
  },
  {
   "cell_type": "code",
   "execution_count": 8,
   "id": "e9d6338f",
   "metadata": {},
   "outputs": [
    {
     "data": {
      "text/plain": [
       "<AxesSubplot:xlabel='Hours'>"
      ]
     },
     "execution_count": 8,
     "metadata": {},
     "output_type": "execute_result"
    },
    {
     "data": {
      "image/png": "[encoded data removed]",
      "text/plain": [
       "<Figure size 432x288 with 1 Axes>"
      ]
     },
     "metadata": {
      "needs_background": "light"
     },
     "output_type": "display_data"
    }
   ],
   "source": [
    "df.plot(x='Hours',y='Scores', style = '*')"
   ]
  },
  {
   "cell_type": "code",
   "execution_count": 9,
   "id": "3598c565",
   "metadata": {},
   "outputs": [
    {
     "data": {
      "image/png": "[encoded data removed]",
      "text/plain": [
       "<Figure size 504x504 with 1 Axes>"
      ]
     },
     "metadata": {
      "needs_background": "light"
     },
     "output_type": "display_data"
    }
   ],
   "source": [
    "plt.figure(figsize=(7,7))\n",
    "plt.hist(df['Scores'])\n",
    "plt.show()"
   ]
  },
  {
   "cell_type": "markdown",
   "id": "80778347",
   "metadata": {},
   "source": [
    "# Step 4: Training and Testing the data"
   ]
  },
  {
   "cell_type": "code",
   "execution_count": 10,
   "id": "0931302f",
   "metadata": {},
   "outputs": [],
   "source": [
    "from sklearn.model_selection import train_test_split"
   ]
  },
  {
   "cell_type": "code",
   "execution_count": 11,
   "id": "0406d6d7",
   "metadata": {},
   "outputs": [],
   "source": [
    "X = df[['Hours']]\n",
    "y = df[['Scores']]"
   ]
  },
  {
   "cell_type": "code",
   "execution_count": 12,
   "id": "ab782ea6",
   "metadata": {},
   "outputs": [],
   "source": [
    "X_train, X_test, y_train, y_test = train_test_split(X, y, test_size=0.3, random_state=5)"
   ]
  },
  {
   "cell_type": "code",
   "execution_count": 13,
   "id": "abc0c35f",
   "metadata": {},
   "outputs": [],
   "source": [
    "from sklearn.linear_model import LinearRegression"
   ]
  },
  {
   "cell_type": "code",
   "execution_count": 14,
   "id": "07e811bd",
   "metadata": {},
   "outputs": [
    {
     "data": {
      "text/plain": [
       "LinearRegression()"
      ]
     },
     "execution_count": 14,
     "metadata": {},
     "output_type": "execute_result"
    }
   ],
   "source": [
    "lmodel= LinearRegression()\n",
    "lmodel.fit((X_train), (y_train))"
   ]
  },
  {
   "cell_type": "code",
   "execution_count": 15,
   "id": "e0218ff4",
   "metadata": {},
   "outputs": [],
   "source": [
    "predictions = lmodel.predict(X_test)"
   ]
  },
  {
   "cell_type": "code",
   "execution_count": 16,
   "id": "7a4847c9",
   "metadata": {},
   "outputs": [
    {
     "data": {
      "text/plain": [
       "0.9248556597026296"
      ]
     },
     "execution_count": 16,
     "metadata": {},
     "output_type": "execute_result"
    }
   ],
   "source": [
    "lmodel.score(X_test, y_test)"
   ]
  },
  {
   "cell_type": "code",
   "execution_count": 17,
   "id": "be189a0e",
   "metadata": {},
   "outputs": [
    {
     "data": {
      "text/plain": [
       "0.9599784723762447"
      ]
     },
     "execution_count": 17,
     "metadata": {},
     "output_type": "execute_result"
    }
   ],
   "source": [
    "lmodel.score(X_train, y_train)"
   ]
  },
  {
   "cell_type": "markdown",
   "id": "7d3d039c",
   "metadata": {},
   "source": [
    "## Comparing the values of predicted and actual values"
   ]
  },
  {
   "cell_type": "code",
   "execution_count": 18,
   "id": "f5f51926",
   "metadata": {},
   "outputs": [
    {
     "data": {
      "text/plain": [
       "array([[73.47106613],\n",
       "       [61.1815317 ],\n",
       "       [33.76641644],\n",
       "       [76.30711253],\n",
       "       [48.89199727],\n",
       "       [21.47688201],\n",
       "       [77.25246134],\n",
       "       [46.05595086]])"
      ]
     },
     "execution_count": 18,
     "metadata": {},
     "output_type": "execute_result"
    }
   ],
   "source": [
    "predictions"
   ]
  },
  {
   "cell_type": "code",
   "execution_count": 19,
   "id": "62d93a50",
   "metadata": {},
   "outputs": [
    {
     "data": {
      "text/plain": [
       "array([[69],\n",
       "       [67],\n",
       "       [27],\n",
       "       [85],\n",
       "       [54],\n",
       "       [24],\n",
       "       [86],\n",
       "       [41]], dtype=int64)"
      ]
     },
     "execution_count": 19,
     "metadata": {},
     "output_type": "execute_result"
    }
   ],
   "source": [
    "Actual = y_test.values\n",
    "Actual"
   ]
  },
  {
   "cell_type": "code",
   "execution_count": null,
   "id": "30230abf",
   "metadata": {},
   "outputs": [],
   "source": [
    "#Predicted = predictions.values"
   ]
  },
  {
   "cell_type": "code",
   "execution_count": null,
   "id": "ddf37306",
   "metadata": {},
   "outputs": [],
   "source": [
    "#df1 = pd.concat([Actual, predictions], join='outer', axis=1)"
   ]
  },
  {
   "cell_type": "code",
   "execution_count": 20,
   "id": "6d88245d",
   "metadata": {},
   "outputs": [
    {
     "name": "stdout",
     "output_type": "stream",
     "text": [
      "The predicted score of student studying 9.25 hours per day is [[90.96001897]]\n"
     ]
    }
   ],
   "source": [
    "# Predicting score of a student studying 9.25 hrs/day\n",
    "n_hours = [[9.25]]\n",
    "pred_score = lmodel.predict(n_hours)\n",
    "print('The predicted score of student studying 9.25 hours per day is', pred_score)"
   ]
  },
  {
   "cell_type": "markdown",
   "id": "1fda678e",
   "metadata": {},
   "source": [
    "# The predicted score of student studying 9.25 hours per day is 90.96001897"
   ]
  },
  {
   "cell_type": "code",
   "execution_count": null,
   "id": "7cf2c49f",
   "metadata": {},
   "outputs": [],
   "source": []
  }
 ],
 "metadata": {
  "kernelspec": {
   "display_name": "Python 3",
   "language": "python",
   "name": "python3"
  },
  "language_info": {
   "codemirror_mode": {
    "name": "ipython",
    "version": 3
   },
   "file_extension": ".py",
   "mimetype": "text/x-python",
   "name": "python",
   "nbconvert_exporter": "python",
   "pygments_lexer": "ipython3",
   "version": "3.8.8"
  }
 },
 "nbformat": 4,
 "nbformat_minor": 5
}
