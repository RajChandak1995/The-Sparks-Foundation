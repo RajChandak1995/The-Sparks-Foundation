{
 "cells": [
  {
   "cell_type": "markdown",
   "id": "93ed3117",
   "metadata": {},
   "source": [
    "## Importing Libraries"
   ]
  },
  {
   "cell_type": "code",
   "execution_count": 1,
   "id": "8f83212b",
   "metadata": {},
   "outputs": [],
   "source": [
    "import cv2\n",
    "import numpy as np\n",
    "import pandas as pd\n",
    "import argparse"
   ]
  },
  {
   "cell_type": "code",
   "execution_count": 2,
   "id": "0650af59",
   "metadata": {},
   "outputs": [],
   "source": [
    "import warnings\n",
    "warnings.filterwarnings('ignore')"
   ]
  },
  {
   "cell_type": "markdown",
   "id": "856cf948",
   "metadata": {},
   "source": [
    "## Creating argument parser to take image path from command line"
   ]
  },
  {
   "cell_type": "code",
   "execution_count": 3,
   "id": "24a09468",
   "metadata": {},
   "outputs": [
    {
     "name": "stderr",
     "output_type": "stream",
     "text": [
      "usage: ipykernel_launcher.py [-h] -i IMAGE\n",
      "ipykernel_launcher.py: error: the following arguments are required: -i/--image\n"
     ]
    },
    {
     "ename": "SystemExit",
     "evalue": "2",
     "output_type": "error",
     "traceback": [
      "An exception has occurred, use %tb to see the full traceback.\n",
      "\u001b[1;31mSystemExit\u001b[0m\u001b[1;31m:\u001b[0m 2\n"
     ]
    }
   ],
   "source": [
    "ap = argparse.ArgumentParser()\n",
    "ap.add_argument('-i', '--image', required=True, help=\"Image Path\")\n",
    "args = vars(ap.parse_args())\n",
    "img_path = args['image']"
   ]
  },
  {
   "cell_type": "markdown",
   "id": "6d462961",
   "metadata": {},
   "source": [
    "## Reading the image with opencv"
   ]
  },
  {
   "cell_type": "code",
   "execution_count": 4,
   "id": "6be07639",
   "metadata": {},
   "outputs": [],
   "source": [
    "img = cv2.imread('color-recognization-work-sheets-1.jpg')"
   ]
  },
  {
   "cell_type": "markdown",
   "id": "888204ee",
   "metadata": {},
   "source": [
    "## declaring global variables (are used later on)"
   ]
  },
  {
   "cell_type": "code",
   "execution_count": 5,
   "id": "bdf53e99",
   "metadata": {},
   "outputs": [],
   "source": [
    "clicked = False\n",
    "r = g = b = xpos = ypos = 0"
   ]
  },
  {
   "cell_type": "markdown",
   "id": "96e7a87f",
   "metadata": {},
   "source": [
    "## Reading csv file with pandas and giving names to each column"
   ]
  },
  {
   "cell_type": "code",
   "execution_count": 6,
   "id": "5ae309e2",
   "metadata": {},
   "outputs": [],
   "source": [
    "index=[\"color\",\"color_name\",\"hex\",\"R\",\"G\",\"B\"]\n",
    "csv = pd.read_csv('colors.csv', names=index, header=None)"
   ]
  },
  {
   "cell_type": "markdown",
   "id": "b24a221b",
   "metadata": {},
   "source": [
    "## function to calculate minimum distance from all colors and get the most matching color"
   ]
  },
  {
   "cell_type": "code",
   "execution_count": 7,
   "id": "27f0d3ac",
   "metadata": {},
   "outputs": [],
   "source": [
    "def getColorName(R,G,B):\n",
    "    minimum = 10000\n",
    "    for i in range(len(csv)):\n",
    "        d = abs(R- int(csv.loc[i,\"R\"])) + abs(G- int(csv.loc[i,\"G\"]))+ abs(B- int(csv.loc[i,\"B\"]))\n",
    "        if(d<=minimum):\n",
    "            minimum = d\n",
    "            cname = csv.loc[i,\"color_name\"]\n",
    "    return cname"
   ]
  },
  {
   "cell_type": "markdown",
   "id": "e6ff9065",
   "metadata": {},
   "source": [
    "## function to get x,y coordinates of mouse double click"
   ]
  },
  {
   "cell_type": "code",
   "execution_count": 8,
   "id": "f1b068c7",
   "metadata": {},
   "outputs": [],
   "source": [
    "def draw_function(event, x,y,flags,param):\n",
    "    if event == cv2.EVENT_LBUTTONDBLCLK:\n",
    "        global b,g,r,xpos,ypos, clicked\n",
    "        clicked = True\n",
    "        xpos = x\n",
    "        ypos = y\n",
    "        b,g,r = img[y,x]\n",
    "        b = int(b)\n",
    "        g = int(g)\n",
    "        r = int(r)\n",
    "       \n",
    "cv2.namedWindow('image')\n",
    "cv2.setMouseCallback('image',draw_function)\n",
    "\n",
    "while(1):\n",
    "\n",
    "    cv2.imshow(\"image\",img)\n",
    "    if (clicked):\n",
    "   \n",
    "        #cv2.rectangle(image, startpoint, endpoint, color, thickness)-1 fills entire rectangle \n",
    "        cv2.rectangle(img,(20,20), (750,60), (b,g,r), -1)\n",
    "\n",
    "        #Creating text string to display( Color name and RGB values )\n",
    "        text = getColorName(r,g,b) + ' R='+ str(r) +  ' G='+ str(g) +  ' B='+ str(b)\n",
    "        \n",
    "        #cv2.putText(img,text,start,font(0-7),fontScale,color,thickness,lineType )\n",
    "        cv2.putText(img, text,(50,50),2,0.8,(255,255,255),2,cv2.LINE_AA)\n",
    "\n",
    "        #For very light colours we will display text in black colour\n",
    "        if(r+g+b>=600):\n",
    "            cv2.putText(img, text,(50,50),2,0.8,(0,0,0),2,cv2.LINE_AA)\n",
    "            \n",
    "        clicked=False\n",
    "\n",
    "    #Break the loop when user hits 'esc' key    \n",
    "    if cv2.waitKey(20) & 0xFF ==27:\n",
    "        break\n",
    "    \n",
    "cv2.destroyAllWindows()\n"
   ]
  },
  {
   "cell_type": "code",
   "execution_count": null,
   "id": "e0c8c8f4",
   "metadata": {},
   "outputs": [],
   "source": []
  }
 ],
 "metadata": {
  "kernelspec": {
   "display_name": "Python 3",
   "language": "python",
   "name": "python3"
  },
  "language_info": {
   "codemirror_mode": {
    "name": "ipython",
    "version": 3
   },
   "file_extension": ".py",
   "mimetype": "text/x-python",
   "name": "python",
   "nbconvert_exporter": "python",
   "pygments_lexer": "ipython3",
   "version": "3.8.8"
  }
 },
 "nbformat": 4,
 "nbformat_minor": 5
}
